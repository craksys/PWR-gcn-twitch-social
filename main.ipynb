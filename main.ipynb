{
 "cells": [
  {
   "cell_type": "markdown",
   "id": "7e77ba36",
   "metadata": {},
   "source": [
    "# GCN Model\n",
    "\n",
    "### Import bibliotek"
   ]
  },
  {
   "cell_type": "code",
   "execution_count": null,
   "id": "bc287117",
   "metadata": {},
   "outputs": [],
   "source": [
    "import pandas as pd\n",
    "import torch\n",
    "import json\n",
    "from torch import nn\n",
    "from torch_geometric.data import Data\n",
    "from torch_geometric.nn import GCNConv\n",
    "import torch.nn.functional as F\n",
    "from sklearn.model_selection import train_test_split\n",
    "import torch.optim as optim\n",
    "import matplotlib.pyplot as plt"
   ]
  },
  {
   "cell_type": "markdown",
   "id": "d6a74dc7",
   "metadata": {},
   "source": [
    "### Wczytanie datasetu z plików"
   ]
  },
  {
   "cell_type": "code",
   "execution_count": null,
   "id": "0926a033",
   "metadata": {},
   "outputs": [],
   "source": [
    "SOURCE_PATH = 'dataset/'\n",
    "\n",
    "def load_data():\n",
    "    data_edges = pd.read_csv(SOURCE_PATH + 'DE_edges.csv')\n",
    "    data_target = pd.read_csv(SOURCE_PATH + 'DE_target.csv')\n",
    "    with open(SOURCE_PATH + 'DE.json') as f:\n",
    "        node_features_json = json.load(f)\n",
    "    node_features_df = pd.DataFrame.from_dict(node_features_json, orient='index')\n",
    "    node_features_df.index.name = 'id'\n",
    "    node_features_df.reset_index(inplace=True)\n",
    "    return data_edges, data_target, node_features_df"
   ]
  },
  {
   "cell_type": "markdown",
   "id": "cf658abc",
   "metadata": {},
   "source": [
    "### Preprocesowanie danych"
   ]
  },
  {
   "cell_type": "code",
   "execution_count": null,
   "id": "80071142",
   "metadata": {},
   "outputs": [],
   "source": [
    "def preprocess_data(data_target, data_edges, node_features_df):\n",
    "    data_target = data_target.drop(columns=['id'])\n",
    "    data_target = data_target.rename(columns={'new_id': 'id'})\n",
    "    data_edges = data_edges.rename(columns={'from': 'from_id', 'to': 'to_id'})\n",
    "    data_target['mature'] = data_target['mature'].astype(int)\n",
    "    data_target['partner'] = data_target['partner'].astype(int)\n",
    "    data_target['days'] = (data_target['days'] - data_target['days'].mean()) / data_target['days'].std()\n",
    "    data_target['views'] = (data_target['views'] - data_target['views'].mean()) / data_target['views'].std()\n",
    "    node_features = torch.tensor(data_target.drop(columns=['id']).values, dtype=torch.float)\n",
    "    data_target['id'] = data_target['id'].astype('int64')\n",
    "    node_features_df['id'] = node_features_df['id'].astype('int64')\n",
    "    data_target = pd.merge(data_target, node_features_df, on='id')\n",
    "    data_target = data_target.fillna(0)\n",
    "    return data_target, data_edges, node_features"
   ]
  },
  {
   "cell_type": "markdown",
   "id": "8c82be75",
   "metadata": {},
   "source": [
    "### Przygotowanie danych"
   ]
  },
  {
   "cell_type": "code",
   "execution_count": null,
   "id": "17b7850e",
   "metadata": {},
   "outputs": [],
   "source": [
    "def prepare_data(data_target, data_edges, node_features):\n",
    "    edge_index = torch.tensor(data_edges.values, dtype=torch.long).t().contiguous()\n",
    "    edge_index = torch.cat([edge_index, edge_index[[1, 0]]], dim=1)\n",
    "    node_ids = data_target['id']\n",
    "    node_to_idx = {node_id: idx for idx, node_id in enumerate(node_ids)}\n",
    "    labels = torch.tensor(data_target['mature'].values, dtype=torch.long)\n",
    "    x = torch.eye(len(node_ids))\n",
    "    train_indices, test_indices = train_test_split(range(len(node_ids)), test_size=0.20, stratify=labels)\n",
    "    train_mask = torch.zeros(len(node_ids), dtype=torch.bool).scatter_(0, torch.tensor(train_indices), True)\n",
    "    test_mask = torch.zeros(len(node_ids), dtype=torch.bool).scatter_(0, torch.tensor(test_indices), True)\n",
    "    data = Data(x=node_features, edge_index=edge_index, y=labels, train_mask=train_mask, test_mask=test_mask)\n",
    "    return data"
   ]
  },
  {
   "cell_type": "markdown",
   "id": "e0be0b95",
   "metadata": {},
   "source": [
    "### Zdfiniowanie modelu GCN"
   ]
  },
  {
   "cell_type": "code",
   "execution_count": null,
   "id": "042c4550",
   "metadata": {},
   "outputs": [],
   "source": [
    "class GCN(nn.Module):\n",
    "    def __init__(self, node_features):\n",
    "        super(GCN, self).__init__()\n",
    "        self.conv1 = GCNConv(node_features.shape[1], 32)\n",
    "        self.conv2 = GCNConv(32, 2)\n",
    "\n",
    "    def forward(self, data):\n",
    "        x, edge_index = data.x, data.edge_index\n",
    "        x = F.relu(self.conv1(x, edge_index))\n",
    "        x = F.dropout(x, training=self.training)\n",
    "        x = self.conv2(x, edge_index)\n",
    "        return F.log_softmax(x, dim=1)"
   ]
  },
  {
   "cell_type": "markdown",
   "id": "876f146e",
   "metadata": {},
   "source": [
    "### Funkcja trenująca"
   ]
  },
  {
   "cell_type": "code",
   "execution_count": null,
   "id": "fae9b044",
   "metadata": {},
   "outputs": [],
   "source": [
    "def train(model, data, optimizer, criterion):\n",
    "    model.train()\n",
    "    optimizer.zero_grad()\n",
    "    out = model(data)\n",
    "    loss = criterion(out[data.train_mask], data.y[data.train_mask])\n",
    "    loss.backward()\n",
    "    optimizer.step()\n",
    "    return loss.item()"
   ]
  },
  {
   "cell_type": "markdown",
   "id": "6a6f54ff",
   "metadata": {},
   "source": [
    "### Funkcja walidująca"
   ]
  },
  {
   "cell_type": "code",
   "execution_count": null,
   "id": "21789e20",
   "metadata": {},
   "outputs": [],
   "source": [
    "def test(model, data):\n",
    "    model.eval()\n",
    "    out = model(data)\n",
    "    pred = out.argmax(dim=1)\n",
    "    correct = (pred[data.test_mask] == data.y[data.test_mask]).sum().item()\n",
    "    accuracy = correct / int(data.test_mask.sum())\n",
    "    return accuracy"
   ]
  },
  {
   "cell_type": "markdown",
   "id": "8a74c57a",
   "metadata": {},
   "source": [
    "### Funkcja rysująca wykresy acc/loss"
   ]
  },
  {
   "cell_type": "code",
   "execution_count": null,
   "id": "346e78fc",
   "metadata": {},
   "outputs": [],
   "source": [
    "def plot_results(loss_values, accuracy_values):\n",
    "    plt.figure(figsize=(12, 6))\n",
    "    plt.subplot(1, 2, 1)\n",
    "    plt.plot(loss_values, label='Train Loss')\n",
    "    plt.xlabel('Epochs')\n",
    "    plt.ylabel('Loss')\n",
    "    plt.title('Loss over time')\n",
    "    plt.legend()\n",
    "\n",
    "    plt.subplot(1, 2, 2)\n",
    "    plt.plot(accuracy_values, label='Test Accuracy')\n",
    "    plt.xlabel('Epochs')\n",
    "    plt.ylabel('Accuracy')\n",
    "    plt.title('Accuracy over time')\n",
    "    plt.legend()\n",
    "\n",
    "    plt.tight_layout()\n",
    "    plt.show()"
   ]
  },
  {
   "cell_type": "markdown",
   "id": "4dd2707e",
   "metadata": {},
   "source": [
    "### Główna pętla programu"
   ]
  },
  {
   "cell_type": "code",
   "execution_count": null,
   "id": "19a14ca1",
   "metadata": {},
   "outputs": [],
   "source": [
    "def main():\n",
    "    data_edges, data_target, node_features_df = load_data()\n",
    "    data_target, data_edges, node_features = preprocess_data(data_target, data_edges, node_features_df)\n",
    "    data = prepare_data(data_target, data_edges, node_features)\n",
    "    device = torch.device(\"cuda\" if torch.cuda.is_available() else \"cpu\")\n",
    "    model = GCN(node_features).to(device)\n",
    "    data = data.to(device)\n",
    "    optimizer = optim.Adam(model.parameters(), lr=0.01)\n",
    "    criterion = nn.CrossEntropyLoss() \n",
    "    epochs = 2000\n",
    "    loss_values = []\n",
    "    accuracy_values = []\n",
    "    for epoch in range(epochs):\n",
    "        loss = train(model, data, optimizer, criterion)\n",
    "        acc = test(model, data)\n",
    "        loss_values.append(loss)\n",
    "        accuracy_values.append(acc)\n",
    "        print(f'Epoch: {epoch + 1:03d}, Loss: {loss:.4f}, Acc: {acc:.4f}')\n",
    "\n",
    "    plot_results(loss_values, accuracy_values)"
   ]
  },
  {
   "cell_type": "code",
   "execution_count": null,
   "id": "4535341f",
   "metadata": {},
   "outputs": [],
   "source": [
    "if __name__ == \"__main__\":\n",
    "    main()"
   ]
  }
 ],
 "metadata": {
  "kernelspec": {
   "display_name": "Python 3 (ipykernel)",
   "language": "python",
   "name": "python3"
  },
  "language_info": {
   "codemirror_mode": {
    "name": "ipython",
    "version": 3
   },
   "file_extension": ".py",
   "mimetype": "text/x-python",
   "name": "python",
   "nbconvert_exporter": "python",
   "pygments_lexer": "ipython3",
   "version": "3.10.11"
  }
 },
 "nbformat": 4,
 "nbformat_minor": 5
}
