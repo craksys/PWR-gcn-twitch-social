{
 "cells": [
  {
   "cell_type": "code",
   "execution_count": null,
   "id": "8f13bb70-65ed-4404-b8c7-9ce88cd9be36",
   "metadata": {},
   "outputs": [],
   "source": [
    "print(\"xd\")"
   ]
  }
 ],
 "metadata": {
  "kernelspec": {
   "display_name": "Python 3 (ipykernel)",
   "language": "python",
   "name": "python3"
  },
  "language_info": {
   "codemirror_mode": {
    "name": "ipython",
    "version": 3
   },
   "file_extension": ".py",
   "mimetype": "text/x-python",
   "name": "python",
   "nbconvert_exporter": "python",
   "pygments_lexer": "ipython3",
   "version": "3.10.11"
  }
 },
 "nbformat": 4,
 "nbformat_minor": 5
}
